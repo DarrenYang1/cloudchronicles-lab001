{
 "cells": [
  {
   "cell_type": "markdown",
   "id": "0f1e0979",
   "metadata": {},
   "source": [
    "# 🧠 cloudChronicles Lab #001: Disaster Recovery Detective\n",
    "\n",
    "**Lab Type:** Idea  \n",
    "**Estimated Time:** 30–45 mins  \n",
    "**Skill Level:** Beginner"
   ]
  },
  {
   "cell_type": "code",
   "execution_count": null,
   "id": "a97f86ab",
   "metadata": {},
   "outputs": [],
   "source": [
    "# Let's begin by printing your name to personalize the notebook\n",
    "your_name = \"\"\n",
    "print(f\"Welcome to the lab, {Nelson}!\")"
   ]
  },
  {
   "cell_type": "markdown",
   "id": "0f94d019",
   "metadata": {},
   "source": [
    "## 🔍 STAR Method Lab Prompt\n",
    "\n",
    "**Situation:**  \n",
    "[A regional outage has occurred in the us-central1 region, impacting services running in that area. This affects databases, storage, and application availability for workloads relying solely on this region.]\n",
    "\n",
    "**Task:**  \n",
    "[The task is to implement a Disaster Recovery (DR) Plan using Google Cloud tools, ensuring high availability and quick failover to minimize downtime and data loss. The key components will include Cloud SQL replicas, multi-region Cloud Storage, and Pub/Sub alerts to facilitate the detection, failover, and recovery process.]\n",
    "\n",
    "**Action:**  \n",
    "[Cloud SQL Disaster Recovery (DR) Plan:
Cloud SQL Replication Setup:
 -Before the outage, set up Cloud SQL cross-region replication (with a primary database in the us-central1 region and a replica in another region like us-east1 or europe-west1).
 -Ensure automatic failover is enabled in the Cloud SQL instance for seamless replication.]\n",
    "\n",
    "**Expected Result:**  \n",
    "[A defined deliverable such as a DR plan, diagram, MVP, etc.]"
   ]
  },
  {
   "cell_type": "markdown",
   "id": "397b221d",
   "metadata": {},
   "source": [
    "## ✍️ Your Assignment\n",
    "\n",
    "_Use this section to complete your deliverable:_\n",
    "\n",
    "```markdown\n",
    "(Example Format)\n",
    "\n",
    "- **Primary Region**: us-central1  \n",
    "- **Backup Location**: us-east1  \n",
    "- **Failover Trigger**: Load balancer health check + Pub/Sub alert  \n",
    "- **Redundancy Services**:  \n",
    "   - Cloud SQL with failover  \n",
    "   - Cloud Storage versioning  \n",
    "   - Cloud Functions for health monitoring  \n",
    "- **Backup Schedule**: Every 6 hours, daily export to multi-region bucket  \n",
    "```"
   ]
  }
 ],
 "metadata": {},
 "nbformat": 4,
 "nbformat_minor": 5
}
