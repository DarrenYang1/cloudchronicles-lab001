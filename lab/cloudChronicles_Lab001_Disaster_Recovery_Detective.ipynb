{
 "cells": [
  {
   "cell_type": "markdown",
   "id": "0f1e0979",
   "metadata": {},
   "source": [
    "# 🧠 cloudChronicles Lab #001: Disaster Recovery Detective\n",
    "\n",
    "**Lab Type:** Idea  \n",
    "**Estimated Time:** 30–45 mins  \n",
    "**Skill Level:** Beginner"
   ]
  },
  {
   "cell_type": "code",
   "execution_count": null,
   "id": "a97f86ab",
   "metadata": {},
   "outputs": [],
   "source": [
    "# Let's begin by printing your name to personalize the notebook\n",
    "your_name = \"\"\n",
    "print(f\"Welcome to the lab, {Nelson}!\")"
   ]
  },
  {
   "cell_type": "markdown",
   "id": "0f94d019",
   "metadata": {},
   "source": [
    "## 🔍 STAR Method Lab Prompt\n",
    "\n",
    "**Situation:**  \n",
    "[A regional outage has occurred in the us-central1 region, impacting services running in that area. This affects databases, storage, and application availability for workloads relying solely on this region.]\n",
    "\n",
    "**Task:**  \n",
    "[The task is to implement a Disaster Recovery (DR) Plan using Google Cloud tools, ensuring high availability and quick failover to minimize downtime and data loss. The key components will include Cloud SQL replicas, multi-region Cloud Storage, and Pub/Sub alerts to facilitate the detection, failover, and recovery process.]\n",
    "\n",
    "**Action:**  \n",
    "Cloud SQL Replication Setup: \n",
    "- Before the outage, set up Cloud SQL cross-region replication (with a primary database in the us-central1 region and a replica in another region like us-east1 or europe-west1). \n",
    "- Ensure automatic failover is enabled in the Cloud SQL instance for seamless replication. \n",
    "\n",
    "**Expected Result:**  \n",
    "[The Disaster Recovery Plan ensures that:]\n",
    "- Cloud SQL replication and automatic failover ensure continuity for database services across regions with minimal downtime. \n",
    "- Multi-region Cloud Storage guarantees that data remains available without interruption, even if us-central1 is down. \n",
    "- Pub/Sub alerts and Cloud Monitoring provide real-time notifications of the outage, enabling automated responses and manual intervention when needed. \n",
    "- Automation (via Cloud Functions or Cloud Run) can be implemented to expedite the recovery process and reduce human intervention. \n",
   ]
  },
  {
   "cell_type": "markdown",
   "id": "397b221d",
   "metadata": {},
   "source": [
    "## ✍️ Your Assignment\n",
    "\n",
    "_Use this section to complete your deliverable:_\n",
    "\n",
    "```markdown\n",
    "(Example Format)\n",
    "\n",
    "- **Primary Region**: us-central1  \n",
    "- **Backup Location**: us-east1  \n",
    "- **Failover Trigger**: Load balancer health check + Pub/Sub alert  \n",
    "- **Redundancy Services**:  \n",
    "   - Cloud SQL with failover  \n",
    "   - Cloud Storage versioning  \n",
    "   - Cloud Functions for health monitoring  \n",
    "- **Backup Schedule**: Every 6 hours, daily export to multi-region bucket  \n",
    "```"
   ]
  }
 ],
 "metadata": {},
 "nbformat": 4,
 "nbformat_minor": 5
}
